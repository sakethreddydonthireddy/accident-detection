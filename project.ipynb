{
  "cells": [
    {
      "cell_type": "code",
      "source": [
        "pip install np_utils"
      ],
      "metadata": {
        "colab": {
          "base_uri": "https://localhost:8080/"
        },
        "id": "MX_XwLGlvtj3",
        "outputId": "7a6b7b4d-082e-4b65-f2bd-8b6974dd1a72"
      },
      "id": "MX_XwLGlvtj3",
      "execution_count": 4,
      "outputs": [
        {
          "output_type": "stream",
          "name": "stdout",
          "text": [
            "Collecting np_utils\n",
            "  Downloading np_utils-0.6.0.tar.gz (61 kB)\n",
            "\u001b[?25l     \u001b[90m━━━━━━━━━━━━━━━━━━━━━━━━━━━━━━━━━━━━━━━━\u001b[0m \u001b[32m0.0/62.0 kB\u001b[0m \u001b[31m?\u001b[0m eta \u001b[36m-:--:--\u001b[0m\r\u001b[2K     \u001b[90m━━━━━━━━━━━━━━━━━━━━━━━━━━━━━━━━━━━━━━━━\u001b[0m \u001b[32m62.0/62.0 kB\u001b[0m \u001b[31m2.4 MB/s\u001b[0m eta \u001b[36m0:00:00\u001b[0m\n",
            "\u001b[?25h  Preparing metadata (setup.py) ... \u001b[?25l\u001b[?25hdone\n",
            "Requirement already satisfied: numpy>=1.0 in /usr/local/lib/python3.10/dist-packages (from np_utils) (1.25.2)\n",
            "Building wheels for collected packages: np_utils\n",
            "  Building wheel for np_utils (setup.py) ... \u001b[?25l\u001b[?25hdone\n",
            "  Created wheel for np_utils: filename=np_utils-0.6.0-py3-none-any.whl size=56441 sha256=9e8d30588f75c1a95af565e5c83782903e8f1f1441ecbdb14723b53883cb2dc6\n",
            "  Stored in directory: /root/.cache/pip/wheels/b6/c7/50/2307607f44366dd021209f660045f8d51cb976514d30be7cc7\n",
            "Successfully built np_utils\n",
            "Installing collected packages: np_utils\n",
            "Successfully installed np_utils-0.6.0\n"
          ]
        }
      ]
    },
    {
      "cell_type": "code",
      "execution_count": 5,
      "id": "93c20982",
      "metadata": {
        "id": "93c20982"
      },
      "outputs": [],
      "source": [
        "import os\n",
        "import cv2     # for capturing videos\n",
        "import math\n",
        "import geocoder\n",
        "import requests\n",
        "%matplotlib inline\n",
        "import pandas as pd\n",
        "from geopy.geocoders import Nominatim\n",
        "from keras.preprocessing import image   # for preprocessing the images\n",
        "import numpy as np    # for mathematical operations\n",
        "from tensorflow.python.keras.utils import np_utils\n",
        "#from keras.utils import np_utils\n",
        "from matplotlib import pyplot as plt\n",
        "from skimage.transform import resize   # for resizing images"
      ]
    },
    {
      "cell_type": "code",
      "execution_count": 9,
      "id": "c9d50c3c",
      "metadata": {
        "colab": {
          "base_uri": "https://localhost:8080/"
        },
        "id": "c9d50c3c",
        "outputId": "1128a7b0-5155-46cc-e02a-39588a410afb"
      },
      "outputs": [
        {
          "output_type": "stream",
          "name": "stdout",
          "text": [
            "Done!\n"
          ]
        }
      ],
      "source": [
        "count = 0\n",
        "videoFile = \"Accidents.mp4\"\n",
        "cap = cv2.VideoCapture(videoFile)   # capturing the video from the given path\n",
        "frameRate = cap.get(5) #frame rate\n",
        "x=1\n",
        "while(cap.isOpened()):\n",
        "    frameId = cap.get(1) #current frame number\n",
        "    ret, frame = cap.read()\n",
        "    if (ret != True):\n",
        "        break\n",
        "    if (frameId % math.floor(frameRate) == 0):\n",
        "        filename =\"%d.jpg\" % count;count+=1\n",
        "        cv2.imwrite(filename, frame)\n",
        "cap.release()\n",
        "print (\"Done!\")"
      ]
    },
    {
      "cell_type": "code",
      "execution_count": 10,
      "id": "ed1ec509",
      "metadata": {
        "colab": {
          "base_uri": "https://localhost:8080/",
          "height": 361
        },
        "id": "ed1ec509",
        "outputId": "62a361da-4e9a-442d-fc88-da4e77d1457b"
      },
      "outputs": [
        {
          "output_type": "execute_result",
          "data": {
            "text/plain": [
              "<matplotlib.image.AxesImage at 0x7fc9703c1f00>"
            ]
          },
          "metadata": {},
          "execution_count": 10
        },
        {
          "output_type": "display_data",
          "data": {
            "text/plain": [
              "<Figure size 640x480 with 1 Axes>"
            ],
            "image/png": "[encoded data removed]"
          },
          "metadata": {}
        }
      ],
      "source": [
        "img = plt.imread('0.jpg')   # reading image using its name\n",
        "plt.imshow(img)"
      ]
    },
    {
      "cell_type": "code",
      "execution_count": 11,
      "id": "9da41986",
      "metadata": {
        "colab": {
          "base_uri": "https://localhost:8080/",
          "height": 206
        },
        "id": "9da41986",
        "outputId": "de11579a-84f7-4544-850b-ba7569d130d9"
      },
      "outputs": [
        {
          "output_type": "execute_result",
          "data": {
            "text/plain": [
              "  Image_ID  Class\n",
              "0    0.jpg      1\n",
              "1    1.jpg      1\n",
              "2    2.jpg      1\n",
              "3    3.jpg      1\n",
              "4    4.jpg      1"
            ],
            "text/html": [
              "\n",
              "  <div id=\"df-364b6fca-5637-4bd9-ab4b-4f86729d1da0\" class=\"colab-df-container\">\n",
              "    <div>\n",
              "<style scoped>\n",
              "    .dataframe tbody tr th:only-of-type {\n",
              "        vertical-align: middle;\n",
              "    }\n",
              "\n",
              "    .dataframe tbody tr th {\n",
              "        vertical-align: top;\n",
              "    }\n",
              "\n",
              "    .dataframe thead th {\n",
              "        text-align: right;\n",
              "    }\n",
              "</style>\n",
              "<table border=\"1\" class=\"dataframe\">\n",
              "  <thead>\n",
              "    <tr style=\"text-align: right;\">\n",
              "      <th></th>\n",
              "      <th>Image_ID</th>\n",
              "      <th>Class</th>\n",
              "    </tr>\n",
              "  </thead>\n",
              "  <tbody>\n",
              "    <tr>\n",
              "      <th>0</th>\n",
              "      <td>0.jpg</td>\n",
              "      <td>1</td>\n",
              "    </tr>\n",
              "    <tr>\n",
              "      <th>1</th>\n",
              "      <td>1.jpg</td>\n",
              "      <td>1</td>\n",
              "    </tr>\n",
              "    <tr>\n",
              "      <th>2</th>\n",
              "      <td>2.jpg</td>\n",
              "      <td>1</td>\n",
              "    </tr>\n",
              "    <tr>\n",
              "      <th>3</th>\n",
              "      <td>3.jpg</td>\n",
              "      <td>1</td>\n",
              "    </tr>\n",
              "    <tr>\n",
              "      <th>4</th>\n",
              "      <td>4.jpg</td>\n",
              "      <td>1</td>\n",
              "    </tr>\n",
              "  </tbody>\n",
              "</table>\n",
              "</div>\n",
              "    <div class=\"colab-df-buttons\">\n",
              "\n",
              "  <div class=\"colab-df-container\">\n",
              "    <button class=\"colab-df-convert\" onclick=\"convertToInteractive('df-364b6fca-5637-4bd9-ab4b-4f86729d1da0')\"\n",
              "            title=\"Convert this dataframe to an interactive table.\"\n",
              "            style=\"display:none;\">\n",
              "\n",
              "  <svg xmlns=\"http://www.w3.org/2000/svg\" height=\"24px\" viewBox=\"0 -960 960 960\">\n",
              "    <path d=\"M120-120v-720h720v720H120Zm60-500h600v-160H180v160Zm220 220h160v-160H400v160Zm0 220h160v-160H400v160ZM180-400h160v-160H180v160Zm440 0h160v-160H620v160ZM180-180h160v-160H180v160Zm440 0h160v-160H620v160Z\"/>\n",
              "  </svg>\n",
              "    </button>\n",
              "\n",
              "  <style>\n",
              "    .colab-df-container {\n",
              "      display:flex;\n",
              "      gap: 12px;\n",
              "    }\n",
              "\n",
              "    .colab-df-convert {\n",
              "      background-color: #E8F0FE;\n",
              "      border: none;\n",
              "      border-radius: 50%;\n",
              "      cursor: pointer;\n",
              "      display: none;\n",
              "      fill: #1967D2;\n",
              "      height: 32px;\n",
              "      padding: 0 0 0 0;\n",
              "      width: 32px;\n",
              "    }\n",
              "\n",
              "    .colab-df-convert:hover {\n",
              "      background-color: #E2EBFA;\n",
              "      box-shadow: 0px 1px 2px rgba(60, 64, 67, 0.3), 0px 1px 3px 1px rgba(60, 64, 67, 0.15);\n",
              "      fill: #174EA6;\n",
              "    }\n",
              "\n",
              "    .colab-df-buttons div {\n",
              "      margin-bottom: 4px;\n",
              "    }\n",
              "\n",
              "    [theme=dark] .colab-df-convert {\n",
              "      background-color: #3B4455;\n",
              "      fill: #D2E3FC;\n",
              "    }\n",
              "\n",
              "    [theme=dark] .colab-df-convert:hover {\n",
              "      background-color: #434B5C;\n",
              "      box-shadow: 0px 1px 3px 1px rgba(0, 0, 0, 0.15);\n",
              "      filter: drop-shadow(0px 1px 2px rgba(0, 0, 0, 0.3));\n",
              "      fill: #FFFFFF;\n",
              "    }\n",
              "  </style>\n",
              "\n",
              "    <script>\n",
              "      const buttonEl =\n",
              "        document.querySelector('#df-364b6fca-5637-4bd9-ab4b-4f86729d1da0 button.colab-df-convert');\n",
              "      buttonEl.style.display =\n",
              "        google.colab.kernel.accessAllowed ? 'block' : 'none';\n",
              "\n",
              "      async function convertToInteractive(key) {\n",
              "        const element = document.querySelector('#df-364b6fca-5637-4bd9-ab4b-4f86729d1da0');\n",
              "        const dataTable =\n",
              "          await google.colab.kernel.invokeFunction('convertToInteractive',\n",
              "                                                    [key], {});\n",
              "        if (!dataTable) return;\n",
              "\n",
              "        const docLinkHtml = 'Like what you see? Visit the ' +\n",
              "          '<a target=\"_blank\" href=https://colab.research.google.com/notebooks/data_table.ipynb>data table notebook</a>'\n",
              "          + ' to learn more about interactive tables.';\n",
              "        element.innerHTML = '';\n",
              "        dataTable['output_type'] = 'display_data';\n",
              "        await google.colab.output.renderOutput(dataTable, element);\n",
              "        const docLink = document.createElement('div');\n",
              "        docLink.innerHTML = docLinkHtml;\n",
              "        element.appendChild(docLink);\n",
              "      }\n",
              "    </script>\n",
              "  </div>\n",
              "\n",
              "\n",
              "<div id=\"df-390788da-34a0-42e3-9d19-64d963cd45e3\">\n",
              "  <button class=\"colab-df-quickchart\" onclick=\"quickchart('df-390788da-34a0-42e3-9d19-64d963cd45e3')\"\n",
              "            title=\"Suggest charts\"\n",
              "            style=\"display:none;\">\n",
              "\n",
              "<svg xmlns=\"http://www.w3.org/2000/svg\" height=\"24px\"viewBox=\"0 0 24 24\"\n",
              "     width=\"24px\">\n",
              "    <g>\n",
              "        <path d=\"M19 3H5c-1.1 0-2 .9-2 2v14c0 1.1.9 2 2 2h14c1.1 0 2-.9 2-2V5c0-1.1-.9-2-2-2zM9 17H7v-7h2v7zm4 0h-2V7h2v10zm4 0h-2v-4h2v4z\"/>\n",
              "    </g>\n",
              "</svg>\n",
              "  </button>\n",
              "\n",
              "<style>\n",
              "  .colab-df-quickchart {\n",
              "      --bg-color: #E8F0FE;\n",
              "      --fill-color: #1967D2;\n",
              "      --hover-bg-color: #E2EBFA;\n",
              "      --hover-fill-color: #174EA6;\n",
              "      --disabled-fill-color: #AAA;\n",
              "      --disabled-bg-color: #DDD;\n",
              "  }\n",
              "\n",
              "  [theme=dark] .colab-df-quickchart {\n",
              "      --bg-color: #3B4455;\n",
              "      --fill-color: #D2E3FC;\n",
              "      --hover-bg-color: #434B5C;\n",
              "      --hover-fill-color: #FFFFFF;\n",
              "      --disabled-bg-color: #3B4455;\n",
              "      --disabled-fill-color: #666;\n",
              "  }\n",
              "\n",
              "  .colab-df-quickchart {\n",
              "    background-color: var(--bg-color);\n",
              "    border: none;\n",
              "    border-radius: 50%;\n",
              "    cursor: pointer;\n",
              "    display: none;\n",
              "    fill: var(--fill-color);\n",
              "    height: 32px;\n",
              "    padding: 0;\n",
              "    width: 32px;\n",
              "  }\n",
              "\n",
              "  .colab-df-quickchart:hover {\n",
              "    background-color: var(--hover-bg-color);\n",
              "    box-shadow: 0 1px 2px rgba(60, 64, 67, 0.3), 0 1px 3px 1px rgba(60, 64, 67, 0.15);\n",
              "    fill: var(--button-hover-fill-color);\n",
              "  }\n",
              "\n",
              "  .colab-df-quickchart-complete:disabled,\n",
              "  .colab-df-quickchart-complete:disabled:hover {\n",
              "    background-color: var(--disabled-bg-color);\n",
              "    fill: var(--disabled-fill-color);\n",
              "    box-shadow: none;\n",
              "  }\n",
              "\n",
              "  .colab-df-spinner {\n",
              "    border: 2px solid var(--fill-color);\n",
              "    border-color: transparent;\n",
              "    border-bottom-color: var(--fill-color);\n",
              "    animation:\n",
              "      spin 1s steps(1) infinite;\n",
              "  }\n",
              "\n",
              "  @keyframes spin {\n",
              "    0% {\n",
              "      border-color: transparent;\n",
              "      border-bottom-color: var(--fill-color);\n",
              "      border-left-color: var(--fill-color);\n",
              "    }\n",
              "    20% {\n",
              "      border-color: transparent;\n",
              "      border-left-color: var(--fill-color);\n",
              "      border-top-color: var(--fill-color);\n",
              "    }\n",
              "    30% {\n",
              "      border-color: transparent;\n",
              "      border-left-color: var(--fill-color);\n",
              "      border-top-color: var(--fill-color);\n",
              "      border-right-color: var(--fill-color);\n",
              "    }\n",
              "    40% {\n",
              "      border-color: transparent;\n",
              "      border-right-color: var(--fill-color);\n",
              "      border-top-color: var(--fill-color);\n",
              "    }\n",
              "    60% {\n",
              "      border-color: transparent;\n",
              "      border-right-color: var(--fill-color);\n",
              "    }\n",
              "    80% {\n",
              "      border-color: transparent;\n",
              "      border-right-color: var(--fill-color);\n",
              "      border-bottom-color: var(--fill-color);\n",
              "    }\n",
              "    90% {\n",
              "      border-color: transparent;\n",
              "      border-bottom-color: var(--fill-color);\n",
              "    }\n",
              "  }\n",
              "</style>\n",
              "\n",
              "  <script>\n",
              "    async function quickchart(key) {\n",
              "      const quickchartButtonEl =\n",
              "        document.querySelector('#' + key + ' button');\n",
              "      quickchartButtonEl.disabled = true;  // To prevent multiple clicks.\n",
              "      quickchartButtonEl.classList.add('colab-df-spinner');\n",
              "      try {\n",
              "        const charts = await google.colab.kernel.invokeFunction(\n",
              "            'suggestCharts', [key], {});\n",
              "      } catch (error) {\n",
              "        console.error('Error during call to suggestCharts:', error);\n",
              "      }\n",
              "      quickchartButtonEl.classList.remove('colab-df-spinner');\n",
              "      quickchartButtonEl.classList.add('colab-df-quickchart-complete');\n",
              "    }\n",
              "    (() => {\n",
              "      let quickchartButtonEl =\n",
              "        document.querySelector('#df-390788da-34a0-42e3-9d19-64d963cd45e3 button');\n",
              "      quickchartButtonEl.style.display =\n",
              "        google.colab.kernel.accessAllowed ? 'block' : 'none';\n",
              "    })();\n",
              "  </script>\n",
              "</div>\n",
              "\n",
              "    </div>\n",
              "  </div>\n"
            ],
            "application/vnd.google.colaboratory.intrinsic+json": {
              "type": "dataframe",
              "variable_name": "data",
              "summary": "{\n  \"name\": \"data\",\n  \"rows\": 222,\n  \"fields\": [\n    {\n      \"column\": \"Image_ID\",\n      \"properties\": {\n        \"dtype\": \"string\",\n        \"num_unique_values\": 222,\n        \"samples\": [\n          \"154.jpg\",\n          \"215.jpg\",\n          \"15.jpg\"\n        ],\n        \"semantic_type\": \"\",\n        \"description\": \"\"\n      }\n    },\n    {\n      \"column\": \"Class\",\n      \"properties\": {\n        \"dtype\": \"number\",\n        \"std\": 0,\n        \"min\": 0,\n        \"max\": 1,\n        \"num_unique_values\": 2,\n        \"samples\": [\n          0,\n          1\n        ],\n        \"semantic_type\": \"\",\n        \"description\": \"\"\n      }\n    }\n  ]\n}"
            }
          },
          "metadata": {},
          "execution_count": 11
        }
      ],
      "source": [
        "data = pd.read_csv('mapping.csv')     # reading the csv file\n",
        "data.head()"
      ]
    },
    {
      "cell_type": "code",
      "execution_count": 12,
      "id": "39a7f413",
      "metadata": {
        "id": "39a7f413"
      },
      "outputs": [],
      "source": [
        "X = [ ]     # creating an empty array\n",
        "for img_name in data.Image_ID:\n",
        "    img = plt.imread('' + img_name)\n",
        "    X.append(img)  # storing each image in array X\n",
        "X = np.array(X)    # converting list to array"
      ]
    },
    {
      "cell_type": "code",
      "execution_count": 13,
      "id": "e8119c04",
      "metadata": {
        "id": "e8119c04"
      },
      "outputs": [],
      "source": [
        "y = data.Class\n",
        "dummy_y = np_utils.to_categorical(y)"
      ]
    },
    {
      "cell_type": "code",
      "execution_count": 14,
      "id": "0f7cf107",
      "metadata": {
        "id": "0f7cf107"
      },
      "outputs": [],
      "source": [
        "image = []\n",
        "for i in range(0,X.shape[0]):\n",
        "    a = resize(X[i], preserve_range=True, output_shape=(224,224)).astype(int)      # reshaping to 224*224*3\n",
        "    image.append(a)\n",
        "X = np.array(image)"
      ]
    },
    {
      "cell_type": "code",
      "execution_count": 15,
      "id": "2555ab63",
      "metadata": {
        "id": "2555ab63"
      },
      "outputs": [],
      "source": [
        "from keras.applications.vgg16 import preprocess_input\n",
        "X = preprocess_input(X,data_format=None)"
      ]
    },
    {
      "cell_type": "code",
      "execution_count": 16,
      "id": "21006e54",
      "metadata": {
        "id": "21006e54"
      },
      "outputs": [],
      "source": [
        "from sklearn.model_selection import train_test_split\n",
        "X_train, X_valid, y_train, y_valid = train_test_split(X, dummy_y, test_size=0.3, random_state=42)"
      ]
    },
    {
      "cell_type": "code",
      "execution_count": 17,
      "id": "af20a283",
      "metadata": {
        "id": "af20a283"
      },
      "outputs": [],
      "source": [
        "from keras.models import Sequential\n",
        "from keras.applications.vgg16 import VGG16\n",
        "from keras.layers import Dense, InputLayer, Dropout"
      ]
    },
    {
      "cell_type": "code",
      "execution_count": 18,
      "id": "47d94402",
      "metadata": {
        "colab": {
          "base_uri": "https://localhost:8080/"
        },
        "id": "47d94402",
        "outputId": "283a442a-57cf-4581-d889-db9d84300cf1"
      },
      "outputs": [
        {
          "output_type": "stream",
          "name": "stdout",
          "text": [
            "Downloading data from https://storage.googleapis.com/tensorflow/keras-applications/vgg16/vgg16_weights_tf_dim_ordering_tf_kernels_notop.h5\n",
            "58889256/58889256 [==============================] - 0s 0us/step\n"
          ]
        }
      ],
      "source": [
        "base_model = VGG16(weights='imagenet', include_top=False, input_shape=(224, 224, 3))"
      ]
    },
    {
      "cell_type": "code",
      "execution_count": 19,
      "id": "fb02ec43",
      "metadata": {
        "colab": {
          "base_uri": "https://localhost:8080/"
        },
        "id": "fb02ec43",
        "outputId": "5f3edc43-3fbc-4bdd-cf5e-0e98d6bbe65a"
      },
      "outputs": [
        {
          "output_type": "stream",
          "name": "stdout",
          "text": [
            "5/5 [==============================] - 95s 19s/step\n",
            "3/3 [==============================] - 41s 10s/step\n"
          ]
        },
        {
          "output_type": "execute_result",
          "data": {
            "text/plain": [
              "((155, 7, 7, 512), (67, 7, 7, 512))"
            ]
          },
          "metadata": {},
          "execution_count": 19
        }
      ],
      "source": [
        "X_train = base_model.predict(X_train)\n",
        "X_valid = base_model.predict(X_valid)\n",
        "X_train.shape, X_valid.shape"
      ]
    },
    {
      "cell_type": "code",
      "execution_count": 20,
      "id": "555111d7",
      "metadata": {
        "id": "555111d7"
      },
      "outputs": [],
      "source": [
        "X_train = X_train.reshape(155, 7*7*512)      # converting to 1-D\n",
        "X_valid = X_valid.reshape(67, 7*7*512)"
      ]
    },
    {
      "cell_type": "code",
      "execution_count": 21,
      "id": "5a5a6732",
      "metadata": {
        "id": "5a5a6732"
      },
      "outputs": [],
      "source": [
        "train = X_train/X_train.max()      # centering the data\n",
        "X_valid = X_valid/X_train.max()"
      ]
    },
    {
      "cell_type": "code",
      "execution_count": 22,
      "id": "57001716",
      "metadata": {
        "id": "57001716"
      },
      "outputs": [],
      "source": [
        "model = Sequential()\n",
        "model.add(InputLayer((7*7*512,)))    # input layer\n",
        "model.add(Dense(units=1024, activation='sigmoid')) # hidden layer\n",
        "model.add(Dense(2, activation='softmax'))    # output layer"
      ]
    },
    {
      "cell_type": "code",
      "execution_count": 23,
      "id": "586cff45",
      "metadata": {
        "colab": {
          "base_uri": "https://localhost:8080/"
        },
        "id": "586cff45",
        "outputId": "dbf6320b-9304-427a-d7bc-1327fbe2c048"
      },
      "outputs": [
        {
          "output_type": "stream",
          "name": "stdout",
          "text": [
            "Model: \"sequential\"\n",
            "_________________________________________________________________\n",
            " Layer (type)                Output Shape              Param #   \n",
            "=================================================================\n",
            " dense (Dense)               (None, 1024)              25691136  \n",
            "                                                                 \n",
            " dense_1 (Dense)             (None, 2)                 2050      \n",
            "                                                                 \n",
            "=================================================================\n",
            "Total params: 25693186 (98.01 MB)\n",
            "Trainable params: 25693186 (98.01 MB)\n",
            "Non-trainable params: 0 (0.00 Byte)\n",
            "_________________________________________________________________\n"
          ]
        }
      ],
      "source": [
        "model.summary()"
      ]
    },
    {
      "cell_type": "code",
      "execution_count": 24,
      "id": "e36420f6",
      "metadata": {
        "id": "e36420f6"
      },
      "outputs": [],
      "source": [
        "model.compile(loss='categorical_crossentropy', optimizer='adam', metrics=['accuracy'])"
      ]
    },
    {
      "cell_type": "code",
      "execution_count": 25,
      "id": "20e00a1e",
      "metadata": {
        "scrolled": true,
        "colab": {
          "base_uri": "https://localhost:8080/"
        },
        "id": "20e00a1e",
        "outputId": "5d34e237-012d-4962-ffc5-314362adba55"
      },
      "outputs": [
        {
          "output_type": "stream",
          "name": "stdout",
          "text": [
            "Epoch 1/100\n",
            "5/5 [==============================] - 5s 903ms/step - loss: 0.8219 - accuracy: 0.5677 - val_loss: 0.7768 - val_accuracy: 0.7313\n",
            "Epoch 2/100\n",
            "5/5 [==============================] - 3s 511ms/step - loss: 0.3022 - accuracy: 0.8710 - val_loss: 0.8024 - val_accuracy: 0.6418\n",
            "Epoch 3/100\n",
            "5/5 [==============================] - 2s 506ms/step - loss: 0.1883 - accuracy: 0.9226 - val_loss: 0.8476 - val_accuracy: 0.7015\n",
            "Epoch 4/100\n",
            "5/5 [==============================] - 3s 518ms/step - loss: 0.1137 - accuracy: 0.9742 - val_loss: 0.8366 - val_accuracy: 0.7015\n",
            "Epoch 5/100\n",
            "5/5 [==============================] - 3s 513ms/step - loss: 0.0727 - accuracy: 0.9935 - val_loss: 0.8428 - val_accuracy: 0.7164\n",
            "Epoch 6/100\n",
            "5/5 [==============================] - 4s 823ms/step - loss: 0.0449 - accuracy: 1.0000 - val_loss: 0.8330 - val_accuracy: 0.7463\n",
            "Epoch 7/100\n",
            "5/5 [==============================] - 3s 524ms/step - loss: 0.0355 - accuracy: 1.0000 - val_loss: 0.8410 - val_accuracy: 0.7612\n",
            "Epoch 8/100\n",
            "5/5 [==============================] - 3s 506ms/step - loss: 0.0270 - accuracy: 1.0000 - val_loss: 0.8382 - val_accuracy: 0.7761\n",
            "Epoch 9/100\n",
            "5/5 [==============================] - 2s 508ms/step - loss: 0.0218 - accuracy: 1.0000 - val_loss: 0.8394 - val_accuracy: 0.7761\n",
            "Epoch 10/100\n",
            "5/5 [==============================] - 3s 506ms/step - loss: 0.0190 - accuracy: 1.0000 - val_loss: 0.8372 - val_accuracy: 0.8060\n",
            "Epoch 11/100\n",
            "5/5 [==============================] - 4s 818ms/step - loss: 0.0167 - accuracy: 1.0000 - val_loss: 0.8428 - val_accuracy: 0.8209\n",
            "Epoch 12/100\n",
            "5/5 [==============================] - 3s 569ms/step - loss: 0.0143 - accuracy: 1.0000 - val_loss: 0.8512 - val_accuracy: 0.8060\n",
            "Epoch 13/100\n",
            "5/5 [==============================] - 3s 516ms/step - loss: 0.0127 - accuracy: 1.0000 - val_loss: 0.8637 - val_accuracy: 0.7910\n",
            "Epoch 14/100\n",
            "5/5 [==============================] - 3s 506ms/step - loss: 0.0117 - accuracy: 1.0000 - val_loss: 0.8772 - val_accuracy: 0.7910\n",
            "Epoch 15/100\n",
            "5/5 [==============================] - 3s 517ms/step - loss: 0.0104 - accuracy: 1.0000 - val_loss: 0.8793 - val_accuracy: 0.7910\n",
            "Epoch 16/100\n",
            "5/5 [==============================] - 4s 780ms/step - loss: 0.0095 - accuracy: 1.0000 - val_loss: 0.8798 - val_accuracy: 0.7910\n",
            "Epoch 17/100\n",
            "5/5 [==============================] - 3s 504ms/step - loss: 0.0090 - accuracy: 1.0000 - val_loss: 0.8831 - val_accuracy: 0.7910\n",
            "Epoch 18/100\n",
            "5/5 [==============================] - 3s 524ms/step - loss: 0.0082 - accuracy: 1.0000 - val_loss: 0.8837 - val_accuracy: 0.7910\n",
            "Epoch 19/100\n",
            "5/5 [==============================] - 3s 510ms/step - loss: 0.0077 - accuracy: 1.0000 - val_loss: 0.8828 - val_accuracy: 0.8209\n",
            "Epoch 20/100\n",
            "5/5 [==============================] - 2s 500ms/step - loss: 0.0072 - accuracy: 1.0000 - val_loss: 0.8833 - val_accuracy: 0.8060\n",
            "Epoch 21/100\n",
            "5/5 [==============================] - 4s 845ms/step - loss: 0.0067 - accuracy: 1.0000 - val_loss: 0.8853 - val_accuracy: 0.8060\n",
            "Epoch 22/100\n",
            "5/5 [==============================] - 3s 518ms/step - loss: 0.0063 - accuracy: 1.0000 - val_loss: 0.8909 - val_accuracy: 0.8060\n",
            "Epoch 23/100\n",
            "5/5 [==============================] - 2s 509ms/step - loss: 0.0059 - accuracy: 1.0000 - val_loss: 0.8937 - val_accuracy: 0.8060\n",
            "Epoch 24/100\n",
            "5/5 [==============================] - 3s 507ms/step - loss: 0.0056 - accuracy: 1.0000 - val_loss: 0.8984 - val_accuracy: 0.8060\n",
            "Epoch 25/100\n",
            "5/5 [==============================] - 2s 504ms/step - loss: 0.0053 - accuracy: 1.0000 - val_loss: 0.9007 - val_accuracy: 0.8060\n",
            "Epoch 26/100\n",
            "5/5 [==============================] - 4s 828ms/step - loss: 0.0051 - accuracy: 1.0000 - val_loss: 0.8998 - val_accuracy: 0.8060\n",
            "Epoch 27/100\n",
            "5/5 [==============================] - 3s 512ms/step - loss: 0.0047 - accuracy: 1.0000 - val_loss: 0.9006 - val_accuracy: 0.8060\n",
            "Epoch 28/100\n",
            "5/5 [==============================] - 2s 506ms/step - loss: 0.0045 - accuracy: 1.0000 - val_loss: 0.9016 - val_accuracy: 0.8060\n",
            "Epoch 29/100\n",
            "5/5 [==============================] - 3s 511ms/step - loss: 0.0043 - accuracy: 1.0000 - val_loss: 0.9046 - val_accuracy: 0.8060\n",
            "Epoch 30/100\n",
            "5/5 [==============================] - 3s 510ms/step - loss: 0.0041 - accuracy: 1.0000 - val_loss: 0.9066 - val_accuracy: 0.8209\n",
            "Epoch 31/100\n",
            "5/5 [==============================] - 4s 832ms/step - loss: 0.0039 - accuracy: 1.0000 - val_loss: 0.9097 - val_accuracy: 0.8060\n",
            "Epoch 32/100\n",
            "5/5 [==============================] - 3s 511ms/step - loss: 0.0037 - accuracy: 1.0000 - val_loss: 0.9127 - val_accuracy: 0.8060\n",
            "Epoch 33/100\n",
            "5/5 [==============================] - 3s 524ms/step - loss: 0.0036 - accuracy: 1.0000 - val_loss: 0.9142 - val_accuracy: 0.8060\n",
            "Epoch 34/100\n",
            "5/5 [==============================] - 3s 508ms/step - loss: 0.0034 - accuracy: 1.0000 - val_loss: 0.9140 - val_accuracy: 0.8060\n",
            "Epoch 35/100\n",
            "5/5 [==============================] - 2s 507ms/step - loss: 0.0033 - accuracy: 1.0000 - val_loss: 0.9157 - val_accuracy: 0.8060\n",
            "Epoch 36/100\n",
            "5/5 [==============================] - 4s 835ms/step - loss: 0.0031 - accuracy: 1.0000 - val_loss: 0.9153 - val_accuracy: 0.8209\n",
            "Epoch 37/100\n",
            "5/5 [==============================] - 3s 506ms/step - loss: 0.0030 - accuracy: 1.0000 - val_loss: 0.9163 - val_accuracy: 0.8358\n",
            "Epoch 38/100\n",
            "5/5 [==============================] - 3s 511ms/step - loss: 0.0029 - accuracy: 1.0000 - val_loss: 0.9178 - val_accuracy: 0.8358\n",
            "Epoch 39/100\n",
            "5/5 [==============================] - 2s 507ms/step - loss: 0.0028 - accuracy: 1.0000 - val_loss: 0.9221 - val_accuracy: 0.8358\n",
            "Epoch 40/100\n",
            "5/5 [==============================] - 3s 511ms/step - loss: 0.0027 - accuracy: 1.0000 - val_loss: 0.9231 - val_accuracy: 0.8358\n",
            "Epoch 41/100\n",
            "5/5 [==============================] - 4s 837ms/step - loss: 0.0026 - accuracy: 1.0000 - val_loss: 0.9256 - val_accuracy: 0.8358\n",
            "Epoch 42/100\n",
            "5/5 [==============================] - 3s 516ms/step - loss: 0.0025 - accuracy: 1.0000 - val_loss: 0.9283 - val_accuracy: 0.8209\n",
            "Epoch 43/100\n",
            "5/5 [==============================] - 3s 517ms/step - loss: 0.0024 - accuracy: 1.0000 - val_loss: 0.9307 - val_accuracy: 0.8209\n",
            "Epoch 44/100\n",
            "5/5 [==============================] - 3s 517ms/step - loss: 0.0023 - accuracy: 1.0000 - val_loss: 0.9327 - val_accuracy: 0.8209\n",
            "Epoch 45/100\n",
            "5/5 [==============================] - 3s 532ms/step - loss: 0.0022 - accuracy: 1.0000 - val_loss: 0.9337 - val_accuracy: 0.8209\n",
            "Epoch 46/100\n",
            "5/5 [==============================] - 4s 771ms/step - loss: 0.0022 - accuracy: 1.0000 - val_loss: 0.9351 - val_accuracy: 0.8358\n",
            "Epoch 47/100\n",
            "5/5 [==============================] - 3s 520ms/step - loss: 0.0021 - accuracy: 1.0000 - val_loss: 0.9359 - val_accuracy: 0.8209\n",
            "Epoch 48/100\n",
            "5/5 [==============================] - 2s 502ms/step - loss: 0.0020 - accuracy: 1.0000 - val_loss: 0.9368 - val_accuracy: 0.8358\n",
            "Epoch 49/100\n",
            "5/5 [==============================] - 2s 507ms/step - loss: 0.0020 - accuracy: 1.0000 - val_loss: 0.9384 - val_accuracy: 0.8358\n",
            "Epoch 50/100\n",
            "5/5 [==============================] - 3s 546ms/step - loss: 0.0019 - accuracy: 1.0000 - val_loss: 0.9403 - val_accuracy: 0.8358\n",
            "Epoch 51/100\n",
            "5/5 [==============================] - 4s 759ms/step - loss: 0.0018 - accuracy: 1.0000 - val_loss: 0.9411 - val_accuracy: 0.8358\n",
            "Epoch 52/100\n",
            "5/5 [==============================] - 3s 508ms/step - loss: 0.0018 - accuracy: 1.0000 - val_loss: 0.9430 - val_accuracy: 0.8358\n",
            "Epoch 53/100\n",
            "5/5 [==============================] - 3s 521ms/step - loss: 0.0017 - accuracy: 1.0000 - val_loss: 0.9446 - val_accuracy: 0.8358\n",
            "Epoch 54/100\n",
            "5/5 [==============================] - 3s 513ms/step - loss: 0.0017 - accuracy: 1.0000 - val_loss: 0.9454 - val_accuracy: 0.8358\n",
            "Epoch 55/100\n",
            "5/5 [==============================] - 3s 577ms/step - loss: 0.0016 - accuracy: 1.0000 - val_loss: 0.9484 - val_accuracy: 0.8209\n",
            "Epoch 56/100\n",
            "5/5 [==============================] - 4s 773ms/step - loss: 0.0016 - accuracy: 1.0000 - val_loss: 0.9486 - val_accuracy: 0.8358\n",
            "Epoch 57/100\n",
            "5/5 [==============================] - 3s 518ms/step - loss: 0.0015 - accuracy: 1.0000 - val_loss: 0.9502 - val_accuracy: 0.8358\n",
            "Epoch 58/100\n",
            "5/5 [==============================] - 3s 507ms/step - loss: 0.0015 - accuracy: 1.0000 - val_loss: 0.9514 - val_accuracy: 0.8358\n",
            "Epoch 59/100\n",
            "5/5 [==============================] - 3s 508ms/step - loss: 0.0015 - accuracy: 1.0000 - val_loss: 0.9532 - val_accuracy: 0.8358\n",
            "Epoch 60/100\n",
            "5/5 [==============================] - 3s 570ms/step - loss: 0.0014 - accuracy: 1.0000 - val_loss: 0.9542 - val_accuracy: 0.8358\n",
            "Epoch 61/100\n",
            "5/5 [==============================] - 4s 849ms/step - loss: 0.0014 - accuracy: 1.0000 - val_loss: 0.9553 - val_accuracy: 0.8358\n",
            "Epoch 62/100\n",
            "5/5 [==============================] - 2s 502ms/step - loss: 0.0014 - accuracy: 1.0000 - val_loss: 0.9560 - val_accuracy: 0.8358\n",
            "Epoch 63/100\n",
            "5/5 [==============================] - 3s 519ms/step - loss: 0.0013 - accuracy: 1.0000 - val_loss: 0.9576 - val_accuracy: 0.8358\n",
            "Epoch 64/100\n",
            "5/5 [==============================] - 3s 513ms/step - loss: 0.0013 - accuracy: 1.0000 - val_loss: 0.9584 - val_accuracy: 0.8358\n",
            "Epoch 65/100\n",
            "5/5 [==============================] - 3s 562ms/step - loss: 0.0012 - accuracy: 1.0000 - val_loss: 0.9601 - val_accuracy: 0.8358\n",
            "Epoch 66/100\n",
            "5/5 [==============================] - 4s 820ms/step - loss: 0.0012 - accuracy: 1.0000 - val_loss: 0.9621 - val_accuracy: 0.8358\n",
            "Epoch 67/100\n",
            "5/5 [==============================] - 3s 510ms/step - loss: 0.0012 - accuracy: 1.0000 - val_loss: 0.9638 - val_accuracy: 0.8358\n",
            "Epoch 68/100\n",
            "5/5 [==============================] - 3s 530ms/step - loss: 0.0012 - accuracy: 1.0000 - val_loss: 0.9649 - val_accuracy: 0.8358\n",
            "Epoch 69/100\n",
            "5/5 [==============================] - 3s 517ms/step - loss: 0.0011 - accuracy: 1.0000 - val_loss: 0.9659 - val_accuracy: 0.8358\n",
            "Epoch 70/100\n",
            "5/5 [==============================] - 3s 577ms/step - loss: 0.0011 - accuracy: 1.0000 - val_loss: 0.9670 - val_accuracy: 0.8358\n",
            "Epoch 71/100\n",
            "5/5 [==============================] - 4s 825ms/step - loss: 0.0011 - accuracy: 1.0000 - val_loss: 0.9678 - val_accuracy: 0.8358\n",
            "Epoch 72/100\n",
            "5/5 [==============================] - 3s 514ms/step - loss: 0.0011 - accuracy: 1.0000 - val_loss: 0.9688 - val_accuracy: 0.8358\n",
            "Epoch 73/100\n",
            "5/5 [==============================] - 2s 505ms/step - loss: 0.0010 - accuracy: 1.0000 - val_loss: 0.9700 - val_accuracy: 0.8358\n",
            "Epoch 74/100\n",
            "5/5 [==============================] - 2s 501ms/step - loss: 0.0010 - accuracy: 1.0000 - val_loss: 0.9719 - val_accuracy: 0.8358\n",
            "Epoch 75/100\n",
            "5/5 [==============================] - 3s 540ms/step - loss: 9.8819e-04 - accuracy: 1.0000 - val_loss: 0.9731 - val_accuracy: 0.8358\n",
            "Epoch 76/100\n",
            "5/5 [==============================] - 4s 839ms/step - loss: 9.6912e-04 - accuracy: 1.0000 - val_loss: 0.9734 - val_accuracy: 0.8209\n",
            "Epoch 77/100\n",
            "5/5 [==============================] - 2s 504ms/step - loss: 9.4667e-04 - accuracy: 1.0000 - val_loss: 0.9752 - val_accuracy: 0.8209\n",
            "Epoch 78/100\n",
            "5/5 [==============================] - 3s 508ms/step - loss: 9.2602e-04 - accuracy: 1.0000 - val_loss: 0.9759 - val_accuracy: 0.8358\n",
            "Epoch 79/100\n",
            "5/5 [==============================] - 3s 507ms/step - loss: 9.0533e-04 - accuracy: 1.0000 - val_loss: 0.9779 - val_accuracy: 0.8358\n",
            "Epoch 80/100\n",
            "5/5 [==============================] - 3s 555ms/step - loss: 8.8746e-04 - accuracy: 1.0000 - val_loss: 0.9789 - val_accuracy: 0.8358\n",
            "Epoch 81/100\n",
            "5/5 [==============================] - 4s 840ms/step - loss: 8.6984e-04 - accuracy: 1.0000 - val_loss: 0.9803 - val_accuracy: 0.8358\n",
            "Epoch 82/100\n",
            "5/5 [==============================] - 3s 511ms/step - loss: 8.5514e-04 - accuracy: 1.0000 - val_loss: 0.9822 - val_accuracy: 0.8358\n",
            "Epoch 83/100\n",
            "5/5 [==============================] - 2s 502ms/step - loss: 8.3586e-04 - accuracy: 1.0000 - val_loss: 0.9839 - val_accuracy: 0.8358\n",
            "Epoch 84/100\n",
            "5/5 [==============================] - 3s 513ms/step - loss: 8.2087e-04 - accuracy: 1.0000 - val_loss: 0.9835 - val_accuracy: 0.8358\n",
            "Epoch 85/100\n",
            "5/5 [==============================] - 2s 505ms/step - loss: 8.0253e-04 - accuracy: 1.0000 - val_loss: 0.9843 - val_accuracy: 0.8358\n",
            "Epoch 86/100\n",
            "5/5 [==============================] - 4s 825ms/step - loss: 7.8754e-04 - accuracy: 1.0000 - val_loss: 0.9853 - val_accuracy: 0.8209\n",
            "Epoch 87/100\n",
            "5/5 [==============================] - 3s 501ms/step - loss: 7.7213e-04 - accuracy: 1.0000 - val_loss: 0.9858 - val_accuracy: 0.8358\n",
            "Epoch 88/100\n",
            "5/5 [==============================] - 2s 509ms/step - loss: 7.5659e-04 - accuracy: 1.0000 - val_loss: 0.9872 - val_accuracy: 0.8358\n",
            "Epoch 89/100\n",
            "5/5 [==============================] - 3s 516ms/step - loss: 7.4315e-04 - accuracy: 1.0000 - val_loss: 0.9886 - val_accuracy: 0.8358\n",
            "Epoch 90/100\n",
            "5/5 [==============================] - 3s 507ms/step - loss: 7.2976e-04 - accuracy: 1.0000 - val_loss: 0.9891 - val_accuracy: 0.8358\n",
            "Epoch 91/100\n",
            "5/5 [==============================] - 4s 836ms/step - loss: 7.1759e-04 - accuracy: 1.0000 - val_loss: 0.9894 - val_accuracy: 0.8358\n",
            "Epoch 92/100\n",
            "5/5 [==============================] - 3s 508ms/step - loss: 7.0294e-04 - accuracy: 1.0000 - val_loss: 0.9912 - val_accuracy: 0.8358\n",
            "Epoch 93/100\n",
            "5/5 [==============================] - 2s 504ms/step - loss: 6.9106e-04 - accuracy: 1.0000 - val_loss: 0.9922 - val_accuracy: 0.8358\n",
            "Epoch 94/100\n",
            "5/5 [==============================] - 2s 508ms/step - loss: 6.7746e-04 - accuracy: 1.0000 - val_loss: 0.9937 - val_accuracy: 0.8358\n",
            "Epoch 95/100\n",
            "5/5 [==============================] - 2s 505ms/step - loss: 6.6621e-04 - accuracy: 1.0000 - val_loss: 0.9945 - val_accuracy: 0.8358\n",
            "Epoch 96/100\n",
            "5/5 [==============================] - 4s 822ms/step - loss: 6.5515e-04 - accuracy: 1.0000 - val_loss: 0.9949 - val_accuracy: 0.8209\n",
            "Epoch 97/100\n",
            "5/5 [==============================] - 3s 510ms/step - loss: 6.4254e-04 - accuracy: 1.0000 - val_loss: 0.9961 - val_accuracy: 0.8358\n",
            "Epoch 98/100\n",
            "5/5 [==============================] - 3s 533ms/step - loss: 6.3276e-04 - accuracy: 1.0000 - val_loss: 0.9970 - val_accuracy: 0.8358\n",
            "Epoch 99/100\n",
            "5/5 [==============================] - 3s 507ms/step - loss: 6.2175e-04 - accuracy: 1.0000 - val_loss: 0.9987 - val_accuracy: 0.8358\n",
            "Epoch 100/100\n",
            "5/5 [==============================] - 3s 524ms/step - loss: 6.1012e-04 - accuracy: 1.0000 - val_loss: 0.9999 - val_accuracy: 0.8358\n"
          ]
        },
        {
          "output_type": "execute_result",
          "data": {
            "text/plain": [
              "<keras.src.callbacks.History at 0x7fc9591abcd0>"
            ]
          },
          "metadata": {},
          "execution_count": 25
        }
      ],
      "source": [
        "model.fit(train, y_train, epochs=100, validation_data=(X_valid, y_valid))"
      ]
    },
    {
      "cell_type": "code",
      "execution_count": 26,
      "id": "494768fe",
      "metadata": {
        "id": "494768fe"
      },
      "outputs": [],
      "source": [
        "model.compile(loss='categorical_crossentropy', optimizer='adam', metrics=['accuracy'])"
      ]
    },
    {
      "cell_type": "code",
      "execution_count": 27,
      "id": "b8d52fec",
      "metadata": {
        "colab": {
          "base_uri": "https://localhost:8080/"
        },
        "id": "b8d52fec",
        "outputId": "ee823c66-521d-4b09-8e7a-52dd771dec82"
      },
      "outputs": [
        {
          "output_type": "stream",
          "name": "stdout",
          "text": [
            "Done!\n"
          ]
        }
      ],
      "source": [
        "count = 0\n",
        "videoFile = \"Accident-1.mp4\"\n",
        "cap = cv2.VideoCapture(videoFile)\n",
        "frameRate = cap.get(5) #frame rate\n",
        "x=1\n",
        "while(cap.isOpened()):\n",
        "    frameId = cap.get(1) #current frame number\n",
        "    ret, frame = cap.read()\n",
        "    if (ret != True):\n",
        "        break\n",
        "    if (frameId % math.floor(frameRate) == 0):\n",
        "        filename =\"test%d.jpg\" % count;count+=1\n",
        "        cv2.imwrite(filename, frame)\n",
        "cap.release()\n",
        "print (\"Done!\")"
      ]
    },
    {
      "cell_type": "code",
      "execution_count": 28,
      "id": "1cf0f0cd",
      "metadata": {
        "id": "1cf0f0cd"
      },
      "outputs": [],
      "source": [
        "test = pd.read_csv('test.csv')"
      ]
    },
    {
      "cell_type": "code",
      "execution_count": 29,
      "id": "9047ac11",
      "metadata": {
        "id": "9047ac11"
      },
      "outputs": [],
      "source": [
        "test_image = []\n",
        "for img_name in test.Image_ID:\n",
        "    img = plt.imread('' + img_name)\n",
        "    test_image.append(img)\n",
        "test_img = np.array(test_image)"
      ]
    },
    {
      "cell_type": "code",
      "execution_count": 30,
      "id": "f32558f2",
      "metadata": {
        "id": "f32558f2"
      },
      "outputs": [],
      "source": [
        "test_image = []\n",
        "for i in range(0,test_img.shape[0]):\n",
        "    a = resize(test_img[i], preserve_range=True, output_shape=(224,224)).astype(int)\n",
        "    test_image.append(a)\n",
        "test_image = np.array(test_image)"
      ]
    },
    {
      "cell_type": "code",
      "execution_count": 31,
      "id": "ff1260b5",
      "metadata": {
        "colab": {
          "base_uri": "https://localhost:8080/"
        },
        "id": "ff1260b5",
        "outputId": "7ee3790d-cd29-48fa-ed4e-5e6cdbb20166"
      },
      "outputs": [
        {
          "output_type": "stream",
          "name": "stdout",
          "text": [
            "1/1 [==============================] - 5s 5s/step\n"
          ]
        },
        {
          "output_type": "execute_result",
          "data": {
            "text/plain": [
              "(9, 7, 7, 512)"
            ]
          },
          "metadata": {},
          "execution_count": 31
        }
      ],
      "source": [
        "# preprocessing the images\n",
        "test_image = preprocess_input(test_image, data_format=None)\n",
        "\n",
        "# extracting features from the images using pretrained model\n",
        "test_image = base_model.predict(test_image)\n",
        "test_image.shape"
      ]
    },
    {
      "cell_type": "code",
      "execution_count": 32,
      "id": "b9f69282",
      "metadata": {
        "id": "b9f69282"
      },
      "outputs": [],
      "source": [
        "test_image = test_image.reshape(9, 7*7*512)\n",
        "\n",
        "# zero centered images\n",
        "test_image = test_image/test_image.max()"
      ]
    },
    {
      "cell_type": "code",
      "execution_count": 33,
      "id": "721c02ae",
      "metadata": {
        "colab": {
          "base_uri": "https://localhost:8080/"
        },
        "id": "721c02ae",
        "outputId": "e370021f-6423-433d-a5f1-a2f9d0838ccd"
      },
      "outputs": [
        {
          "output_type": "stream",
          "name": "stdout",
          "text": [
            "1/1 [==============================] - 0s 135ms/step\n"
          ]
        }
      ],
      "source": [
        "predictions = model.predict(test_image)"
      ]
    },
    {
      "cell_type": "code",
      "execution_count": 34,
      "id": "fb5b165b",
      "metadata": {
        "colab": {
          "base_uri": "https://localhost:8080/"
        },
        "id": "fb5b165b",
        "outputId": "ab7a295a-d7ae-482b-e0ea-b534804a4564"
      },
      "outputs": [
        {
          "output_type": "stream",
          "name": "stdout",
          "text": [
            "[[7.7250452e-06 9.9999219e-01]\n",
            " [4.4599362e-04 9.9955398e-01]\n",
            " [3.8201769e-03 9.9617982e-01]\n",
            " [2.2552032e-03 9.9774480e-01]\n",
            " [7.7998196e-03 9.9220014e-01]\n",
            " [7.5079292e-01 2.4920708e-01]\n",
            " [9.0144116e-01 9.8558821e-02]\n",
            " [7.8249890e-01 2.1750122e-01]\n",
            " [9.3147069e-01 6.8529338e-02]]\n"
          ]
        }
      ],
      "source": [
        "print(predictions)"
      ]
    },
    {
      "cell_type": "code",
      "execution_count": 35,
      "id": "1f040ef0",
      "metadata": {
        "scrolled": true,
        "colab": {
          "base_uri": "https://localhost:8080/"
        },
        "id": "1f040ef0",
        "outputId": "59456c02-4e04-48d7-c1ee-e027dcd387b9"
      },
      "outputs": [
        {
          "output_type": "stream",
          "name": "stdout",
          "text": [
            "No Accident\n",
            "No Accident\n",
            "No Accident\n",
            "No Accident\n",
            "No Accident\n",
            "Accident\n",
            "Accident\n",
            "Accident\n",
            "Accident\n"
          ]
        }
      ],
      "source": [
        "for i in range (0,9):\n",
        "    if predictions[i][0]<predictions[i][1]:\n",
        "        print(\"No Accident\")\n",
        "    else:\n",
        "        print(\"Accident\")\n"
      ]
    },
    {
      "cell_type": "code",
      "execution_count": 40,
      "id": "e66b91f0",
      "metadata": {
        "colab": {
          "base_uri": "https://localhost:8080/",
          "height": 106
        },
        "id": "e66b91f0",
        "outputId": "b02e030f-6cda-4df5-a088-ad8b324d0fd2"
      },
      "outputs": [
        {
          "output_type": "error",
          "ename": "SyntaxError",
          "evalue": "invalid syntax (<ipython-input-40-f3d9b8539080>, line 4)",
          "traceback": [
            "\u001b[0;36m  File \u001b[0;32m\"<ipython-input-40-f3d9b8539080>\"\u001b[0;36m, line \u001b[0;32m4\u001b[0m\n\u001b[0;31m    account_sid = #Enter Your account sid\u001b[0m\n\u001b[0m                  ^\u001b[0m\n\u001b[0;31mSyntaxError\u001b[0m\u001b[0;31m:\u001b[0m invalid syntax\n"
          ]
        }
      ],
      "source": [
        "geoLoc = Nominatim(user_agent=\"GetLoc\")\n",
        "g = geocoder.ip('me')\n",
        "locname = geoLoc.reverse(g.latlng)\n",
        "account_sid = #Enter Your account sid\n",
        "auth_token = #Enter your auth token\n",
        "client = Client(account_sid, auth_token)"
      ]
    },
    {
      "cell_type": "code",
      "execution_count": 39,
      "id": "80b3e4f1",
      "metadata": {
        "colab": {
          "base_uri": "https://localhost:8080/",
          "height": 418
        },
        "id": "80b3e4f1",
        "outputId": "55fc82dc-d2e6-457a-953f-31c46e08d65b"
      },
      "outputs": [
        {
          "output_type": "error",
          "ename": "DisabledFunctionError",
          "evalue": "cv2.imshow() is disabled in Colab, because it causes Jupyter sessions\nto crash; see https://github.com/jupyter/notebook/issues/3935.\nAs a substitution, consider using\n  from google.colab.patches import cv2_imshow\n",
          "traceback": [
            "\u001b[0;31m---------------------------------------------------------------------------\u001b[0m",
            "\u001b[0;31mDisabledFunctionError\u001b[0m                     Traceback (most recent call last)",
            "\u001b[0;32m<ipython-input-39-58e1fd2344c1>\u001b[0m in \u001b[0;36m<cell line: 4>\u001b[0;34m()\u001b[0m\n\u001b[1;32m     18\u001b[0m                 \u001b[0;36m3\u001b[0m\u001b[0;34m,\u001b[0m\u001b[0;34m\u001b[0m\u001b[0;34m\u001b[0m\u001b[0m\n\u001b[1;32m     19\u001b[0m                 cv2.LINE_4)\n\u001b[0;32m---> 20\u001b[0;31m         \u001b[0mcv2\u001b[0m\u001b[0;34m.\u001b[0m\u001b[0mimshow\u001b[0m\u001b[0;34m(\u001b[0m\u001b[0;34m'Frame'\u001b[0m\u001b[0;34m,\u001b[0m \u001b[0mframe\u001b[0m\u001b[0;34m)\u001b[0m\u001b[0;34m\u001b[0m\u001b[0;34m\u001b[0m\u001b[0m\n\u001b[0m\u001b[1;32m     21\u001b[0m         \u001b[0mi\u001b[0m\u001b[0;34m=\u001b[0m\u001b[0mi\u001b[0m\u001b[0;34m+\u001b[0m\u001b[0;36m1\u001b[0m\u001b[0;34m\u001b[0m\u001b[0;34m\u001b[0m\u001b[0m\n\u001b[1;32m     22\u001b[0m         \u001b[0;32mif\u001b[0m \u001b[0mcv2\u001b[0m\u001b[0;34m.\u001b[0m\u001b[0mwaitKey\u001b[0m\u001b[0;34m(\u001b[0m\u001b[0;36m1\u001b[0m\u001b[0;34m)\u001b[0m \u001b[0;34m&\u001b[0m \u001b[0;36m0xFF\u001b[0m \u001b[0;34m==\u001b[0m \u001b[0mord\u001b[0m\u001b[0;34m(\u001b[0m\u001b[0;34m'q'\u001b[0m\u001b[0;34m)\u001b[0m\u001b[0;34m:\u001b[0m\u001b[0;34m\u001b[0m\u001b[0;34m\u001b[0m\u001b[0m\n",
            "\u001b[0;32m/usr/local/lib/python3.10/dist-packages/google/colab/_import_hooks/_cv2.py\u001b[0m in \u001b[0;36mwrapped\u001b[0;34m(*args, **kwargs)\u001b[0m\n\u001b[1;32m     46\u001b[0m   \u001b[0;32mdef\u001b[0m \u001b[0mwrapped\u001b[0m\u001b[0;34m(\u001b[0m\u001b[0;34m*\u001b[0m\u001b[0margs\u001b[0m\u001b[0;34m,\u001b[0m \u001b[0;34m**\u001b[0m\u001b[0mkwargs\u001b[0m\u001b[0;34m)\u001b[0m\u001b[0;34m:\u001b[0m\u001b[0;34m\u001b[0m\u001b[0;34m\u001b[0m\u001b[0m\n\u001b[1;32m     47\u001b[0m     \u001b[0;32mif\u001b[0m \u001b[0;32mnot\u001b[0m \u001b[0mos\u001b[0m\u001b[0;34m.\u001b[0m\u001b[0menviron\u001b[0m\u001b[0;34m.\u001b[0m\u001b[0mget\u001b[0m\u001b[0;34m(\u001b[0m\u001b[0menv_var\u001b[0m\u001b[0;34m,\u001b[0m \u001b[0;32mFalse\u001b[0m\u001b[0;34m)\u001b[0m\u001b[0;34m:\u001b[0m\u001b[0;34m\u001b[0m\u001b[0;34m\u001b[0m\u001b[0m\n\u001b[0;32m---> 48\u001b[0;31m       \u001b[0;32mraise\u001b[0m \u001b[0mDisabledFunctionError\u001b[0m\u001b[0;34m(\u001b[0m\u001b[0mmessage\u001b[0m\u001b[0;34m,\u001b[0m \u001b[0mname\u001b[0m \u001b[0;32mor\u001b[0m \u001b[0mfunc\u001b[0m\u001b[0;34m.\u001b[0m\u001b[0m__name__\u001b[0m\u001b[0;34m)\u001b[0m\u001b[0;34m\u001b[0m\u001b[0;34m\u001b[0m\u001b[0m\n\u001b[0m\u001b[1;32m     49\u001b[0m     \u001b[0;32mreturn\u001b[0m \u001b[0mfunc\u001b[0m\u001b[0;34m(\u001b[0m\u001b[0;34m*\u001b[0m\u001b[0margs\u001b[0m\u001b[0;34m,\u001b[0m \u001b[0;34m**\u001b[0m\u001b[0mkwargs\u001b[0m\u001b[0;34m)\u001b[0m\u001b[0;34m\u001b[0m\u001b[0;34m\u001b[0m\u001b[0m\n\u001b[1;32m     50\u001b[0m \u001b[0;34m\u001b[0m\u001b[0m\n",
            "\u001b[0;31mDisabledFunctionError\u001b[0m: cv2.imshow() is disabled in Colab, because it causes Jupyter sessions\nto crash; see https://github.com/jupyter/notebook/issues/3935.\nAs a substitution, consider using\n  from google.colab.patches import cv2_imshow\n"
          ],
          "errorDetails": {
            "actions": [
              {
                "action": "open_snippet",
                "actionText": "Search Snippets for cv2.imshow",
                "snippetFilter": "cv2.imshow"
              }
            ]
          }
        }
      ],
      "source": [
        "cap = cv2.VideoCapture('Accident-1.mp4')\n",
        "i=0\n",
        "flag=0\n",
        "while(True):\n",
        "    ret,frame=cap.read()\n",
        "    if ret==True:\n",
        "        if predictions[int(i/15)%9][0]<predictions[int(i/15)%9][1]:\n",
        "            predict=\"No Accident\"\n",
        "        else:\n",
        "            predict=\"Accident\"\n",
        "            flag=1\n",
        "        font = cv2.FONT_HERSHEY_SIMPLEX\n",
        "        cv2.putText(frame,\n",
        "                predict,\n",
        "                (50, 50),\n",
        "                font, 1,\n",
        "                (0, 255, 255),\n",
        "                3,\n",
        "                cv2.LINE_4)\n",
        "        cv2.imshow('Frame', frame)\n",
        "        i=i+1\n",
        "        if cv2.waitKey(1) & 0xFF == ord('q'):\n",
        "            break\n",
        "    else:\n",
        "        break\n",
        "if flag==1:\n",
        "    client.messages.create(\n",
        "                 body=\"Accident detected in \"\n",
        "    )\n",
        "\n",
        "# release the cap object\n",
        "cap.release()\n",
        "# close all windows\n",
        "cv2.destroyAllWindows()\n"
      ]
    },
    {
      "cell_type": "code",
      "execution_count": null,
      "id": "27a76e04",
      "metadata": {
        "id": "27a76e04"
      },
      "outputs": [],
      "source": []
    },
    {
      "cell_type": "code",
      "execution_count": null,
      "id": "0d3a6a4f",
      "metadata": {
        "id": "0d3a6a4f"
      },
      "outputs": [],
      "source": []
    },
    {
      "cell_type": "code",
      "execution_count": null,
      "id": "36aaa0ab",
      "metadata": {
        "id": "36aaa0ab"
      },
      "outputs": [],
      "source": []
    },
    {
      "cell_type": "code",
      "execution_count": null,
      "id": "0ab12e9d",
      "metadata": {
        "id": "0ab12e9d"
      },
      "outputs": [],
      "source": []
    },
    {
      "cell_type": "code",
      "execution_count": null,
      "id": "38071c34",
      "metadata": {
        "id": "38071c34"
      },
      "outputs": [],
      "source": []
    }
  ],
  "metadata": {
    "kernelspec": {
      "display_name": "Python 3 (ipykernel)",
      "language": "python",
      "name": "python3"
    },
    "language_info": {
      "codemirror_mode": {
        "name": "ipython",
        "version": 3
      },
      "file_extension": ".py",
      "mimetype": "text/x-python",
      "name": "python",
      "nbconvert_exporter": "python",
      "pygments_lexer": "ipython3",
      "version": "3.9.7"
    },
    "colab": {
      "provenance": []
    }
  },
  "nbformat": 4,
  "nbformat_minor": 5
}